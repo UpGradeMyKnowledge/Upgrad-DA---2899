{
 "cells": [
  {
   "cell_type": "markdown",
   "id": "9189d655",
   "metadata": {},
   "source": []
  },
  {
   "cell_type": "code",
   "execution_count": null,
   "id": "cfd998b7",
   "metadata": {},
   "outputs": [],
   "source": [
    "# Pothana\n",
    "my_str = \"Welcome you all to ta session on 9th 2022\"\n",
    "print(len(my_str))\n",
    "''.join(list(map(lambda x:x.upper(),my_str)))"
   ]
  },
  {
   "cell_type": "code",
   "execution_count": 3,
   "id": "8e11f8a4",
   "metadata": {},
   "outputs": [
    {
     "name": "stdout",
     "output_type": "stream",
     "text": [
      "41\n",
      "WELCOME YOU ALL TO TA SESSION ON 9TH 2022\n",
      "41\n"
     ]
    }
   ],
   "source": [
    "## Mansi\n",
    "my_str = \"Welcome you all to ta session on 9th 2022\"\n",
    "print(len(my_str))\n",
    "\n",
    "answer = ''.join(map(lambda x: x.upper(),my_str))\n",
    "\n",
    "print(answer)\n",
    "print(len(answer))"
   ]
  },
  {
   "cell_type": "code",
   "execution_count": 8,
   "id": "58e516e1",
   "metadata": {},
   "outputs": [
    {
     "name": "stdout",
     "output_type": "stream",
     "text": [
      "41 \t Welcome you all to ta session on 9th 2022\n",
      "41 \t welcome you all to ta session on 9th 2022\n"
     ]
    }
   ],
   "source": [
    "## Brajeshwar\n",
    "\n",
    "my_str = \"Welcome you all to ta session on 9th 2022\"\n",
    "print(len(my_str),'\\t',my_str)\n",
    "def fun(x):\n",
    "    return x.lower()\n",
    "\n",
    "mapedval = ''.join(map(fun,my_str))\n",
    "print(len(mapedval),'\\t',mapedval)\n"
   ]
  },
  {
   "cell_type": "markdown",
   "id": "a086ed5a",
   "metadata": {},
   "source": [
    "2. my_str = \"Abhay, Welcome you all to ta session on 9th 2022\"\n",
    "\n",
    "output string must contain letters other than vowels"
   ]
  },
  {
   "cell_type": "code",
   "execution_count": null,
   "id": "c389386a",
   "metadata": {},
   "outputs": [],
   "source": [
    "%%time\n",
    "\n",
    "# Pothana\n",
    "my_str = \"Abhay, Welcome you all to ta session on 9th 2022\"\n",
    "''.join(filter(lambda x:x.lower() not in 'aeiou',my_str))"
   ]
  },
  {
   "cell_type": "code",
   "execution_count": 11,
   "id": "3296b23c",
   "metadata": {},
   "outputs": [
    {
     "name": "stdout",
     "output_type": "stream",
     "text": [
      "48 \t Abhay, Welcome you all to ta session on 9th 2022\n",
      "34 \t bhy, Wlcm y ll t t sssn n 9th 2022\n"
     ]
    }
   ],
   "source": [
    "my_str = \"Abhay, Welcome you all to ta session on 9th 2022\"\n",
    "def fun(x):\n",
    "    return x.lower() not in 'aeiou'\n",
    "\n",
    "print(len(my_str),'\\t',my_str)\n",
    "ans = ''.join(filter(fun,my_str))\n",
    "print(len(ans),'\\t',ans)"
   ]
  },
  {
   "cell_type": "code",
   "execution_count": null,
   "id": "ff02a277",
   "metadata": {},
   "outputs": [],
   "source": [
    "%%time\n",
    "\n",
    "# Mansi\n",
    "\n",
    "my_str = \"Welcome you all to ta session on 9th 2022\"\n",
    "answer = ''.join(filter(lambda x: x not in 'aeiouAEIOU',my_str))\n",
    "print(answer)"
   ]
  },
  {
   "cell_type": "code",
   "execution_count": null,
   "id": "d905cd9e",
   "metadata": {},
   "outputs": [],
   "source": [
    "%%time\n",
    "\n",
    "## Manothama\n",
    "\n",
    "a1 = ''.join(filter(lambda x:x not in 'AEIOUaeiou',my_str))\n",
    "print(a1)"
   ]
  },
  {
   "cell_type": "code",
   "execution_count": null,
   "id": "6aa8e64f",
   "metadata": {},
   "outputs": [],
   "source": [
    "%%time\n",
    "\n",
    "## Abay\n",
    "my_str = \"Welcome you all to ta session on 9th 2022\"\n",
    "result = ''.join(filter(lambda x: x not in ['a','e','i','o','u','A','E','I','O','U'],my_str))\n",
    "print(result)"
   ]
  },
  {
   "cell_type": "markdown",
   "id": "a91b143e",
   "metadata": {},
   "source": [
    "Consider first 100 numbers and print the result of the expression x^2 + 7y"
   ]
  },
  {
   "cell_type": "code",
   "execution_count": 1,
   "id": "6cae0aa6",
   "metadata": {},
   "outputs": [
    {
     "name": "stdout",
     "output_type": "stream",
     "text": [
      "35542\n"
     ]
    }
   ],
   "source": [
    "# Pothana\n",
    "\n",
    "from functools import reduce \n",
    "print(reduce(lambda x,y:(x+2)+(7*y),range(1,101)))"
   ]
  },
  {
   "cell_type": "code",
   "execution_count": 2,
   "id": "58561b29",
   "metadata": {},
   "outputs": [
    {
     "data": {
      "text/plain": [
       "35542"
      ]
     },
     "execution_count": 2,
     "metadata": {},
     "output_type": "execute_result"
    }
   ],
   "source": [
    "answer = reduce(lambda x,y:(x+2)+(7*y),range(1,101))\n",
    "answer"
   ]
  },
  {
   "cell_type": "code",
   "execution_count": 15,
   "id": "0c823d2a",
   "metadata": {},
   "outputs": [
    {
     "data": {
      "text/plain": [
       "35542"
      ]
     },
     "execution_count": 15,
     "metadata": {},
     "output_type": "execute_result"
    }
   ],
   "source": [
    "def fun(x,y):\n",
    "    return (x+2)+(7*y)\n",
    "\n",
    "answer1 = reduce(fun,range(1,101))\n",
    "answer1"
   ]
  },
  {
   "cell_type": "code",
   "execution_count": 2,
   "id": "be5a3e01",
   "metadata": {},
   "outputs": [
    {
     "name": "stdout",
     "output_type": "stream",
     "text": [
      "4.2\n",
      "4.08\n",
      "3.93\n"
     ]
    }
   ],
   "source": [
    "## 9  -- https://towardsdatascience.com/10-algorithms-to-solve-before-your-python-coding-interview-feb74fb9bc27\n",
    "\n",
    "sentence1 = \"Hi all, my name is Tom...I am originally from Australia.\"\n",
    "sentence2 = \"I need to work very hard to learn more about algorithms in Python!\"\n",
    "sentence = \"Hi tom, how are you doing? Coming for Python's class? Areey -- it's soo boring\"\n",
    "\n",
    "def solution(sentence):\n",
    "    for p in \"!?',;.\":\n",
    "        sentence = sentence.replace(p, '')\n",
    "    words = sentence.split()\n",
    "    return round(sum(len(word) for word in words)/len(words),2)\n",
    "    \n",
    "print(solution(sentence1))\n",
    "print(solution(sentence2))\n",
    "print(solution(sentence))"
   ]
  },
  {
   "cell_type": "code",
   "execution_count": 3,
   "id": "ea0b5913",
   "metadata": {},
   "outputs": [
    {
     "name": "stdout",
     "output_type": "stream",
     "text": [
      "{'s': 11, 'w': 22, 'o': 33, 'r': 44, 'n': 55, 'a': 66}\n",
      "range(0, 10)\n",
      "[]\n",
      "[11, 22, 33, 44, 55, 66]\n",
      "[]\n",
      "{0: 0, 1: 1, 2: 4, 3: 9, 4: 16, 5: 25, 6: 36, 7: 49, 8: 64, 9: 81}\n",
      "[[0, 0], [1, 1], [2, 4], [3, 9], [4, 16], [5, 25], [6, 36], [7, 49], [8, 64], [9, 81]]\n"
     ]
    }
   ],
   "source": [
    "# Take a look at this piece of code <br>\n",
    "\n",
    "A0= dict(zip(('s','w','o','r','n','a'),(11,22,33,44,55,66)))\n",
    "A1= range(10)\n",
    "A2= sorted([i for i in A1 if i in A0])\n",
    "A3= sorted([A0[s] for s in A0])\n",
    "A4= [i for i in A1 if i in A3]\n",
    "A5= {i:i*i for i in A1}\n",
    "A6= [[i,i*i] for i in A1]\n",
    "print(A0)\n",
    "print(A1)\n",
    "print(A2)\n",
    "print(A3)\n",
    "print(A4)\n",
    "print(A5)              \n",
    "print(A6)"
   ]
  },
  {
   "cell_type": "code",
   "execution_count": null,
   "id": "82b47129",
   "metadata": {},
   "outputs": [],
   "source": []
  }
 ],
 "metadata": {
  "kernelspec": {
   "display_name": "Python 3 (ipykernel)",
   "language": "python",
   "name": "python3"
  },
  "language_info": {
   "codemirror_mode": {
    "name": "ipython",
    "version": 3
   },
   "file_extension": ".py",
   "mimetype": "text/x-python",
   "name": "python",
   "nbconvert_exporter": "python",
   "pygments_lexer": "ipython3",
   "version": "3.9.7"
  }
 },
 "nbformat": 4,
 "nbformat_minor": 5
}
