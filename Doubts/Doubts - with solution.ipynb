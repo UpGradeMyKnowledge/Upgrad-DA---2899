{
 "cells": [
  {
   "cell_type": "markdown",
   "id": "0dc5e9d7",
   "metadata": {},
   "source": [
    "s1 = { '1', '2', '3'} to s1 = {1, 2, 3}"
   ]
  },
  {
   "cell_type": "markdown",
   "id": "a9dcbc51",
   "metadata": {},
   "source": [
    "__add__(self, value, /)\n",
    "\n",
    "Return self+value."
   ]
  },
  {
   "cell_type": "code",
   "execution_count": 1,
   "id": "d28d14de",
   "metadata": {},
   "outputs": [
    {
     "name": "stdout",
     "output_type": "stream",
     "text": [
      "aaadbedege\n",
      "efedg\n",
      "a\n"
     ]
    }
   ],
   "source": [
    "#take input on your own\n",
    "string1=input()\n",
    "string2=input()\n",
    "\n",
    "\n",
    "#write code to find the extra character here\n",
    "\n",
    "#we will iterate over longer string\n",
    "#first we find longer string\n",
    "if len(string2)>len(string1):\n",
    "    longer=string2\n",
    "else:\n",
    "    longer=string1\n",
    "#we then iterate over longer string checking count\n",
    "#of that character in both strings\n",
    "\n",
    "for i in longer:\n",
    "    if string1.count(i)!=string2.count(i):\n",
    "        print(i)\n",
    "        break\n",
    "    "
   ]
  },
  {
   "cell_type": "code",
   "execution_count": null,
   "id": "01238eda",
   "metadata": {},
   "outputs": [],
   "source": [
    "print(chr(51))"
   ]
  }
 ],
 "metadata": {
  "kernelspec": {
   "display_name": "Python 3",
   "language": "python",
   "name": "python3"
  },
  "language_info": {
   "codemirror_mode": {
    "name": "ipython",
    "version": 3
   },
   "file_extension": ".py",
   "mimetype": "text/x-python",
   "name": "python",
   "nbconvert_exporter": "python",
   "pygments_lexer": "ipython3",
   "version": "3.8.8"
  }
 },
 "nbformat": 4,
 "nbformat_minor": 5
}
