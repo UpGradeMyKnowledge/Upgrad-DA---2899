{
 "cells": [
  {
   "cell_type": "markdown",
   "id": "0dc5e9d7",
   "metadata": {},
   "source": [
    "s1 = { '1', '2', '3'} to s1 = {1, 2, 3}"
   ]
  },
  {
   "cell_type": "markdown",
   "id": "a9dcbc51",
   "metadata": {},
   "source": [
    "Find Extra Character\n",
    "<br>\n",
    "Description<br>\n",
    "Given two strings, one of the strings will contain an extra character. Find the extra character. The number of all the other characters in both the strings will be the same. Check the sample input/output for more clarification.<br>\n",
    "\n",
    "The code will be case sensitive.<br>\n",
    "<pre>\n",
    "----------------------------------------------------------------------\n",
    "Input:\n",
    "Two strings on two separate lines. \n",
    "\n",
    "Output:\n",
    "One Character which is extra in one of the strings\n",
    "\n",
    "----------------------------------------------------------------------\n",
    "Sample input:\n",
    "abcd\n",
    "cedab"
   ]
  },
  {
   "cell_type": "code",
   "execution_count": null,
   "id": "d28d14de",
   "metadata": {},
   "outputs": [],
   "source": [
    "#take input on your own\n",
    "string1=input()\n",
    "string2=input()\n",
    "\n",
    "\n",
    "#write code to find the extra character here\n",
    "\n",
    "#we will iterate over longer string\n",
    "#first we find longer string\n",
    "if len(string2)>len(string1):\n",
    "    longer=string2\n",
    "else:\n",
    "    longer=string1\n",
    "#we then iterate over longer string checking count\n",
    "#of that character in both strings\n",
    "\n",
    "for i in longer:\n",
    "    if string1.count(i)!=string2.count(i):\n",
    "        print(i)\n",
    "        break\n",
    "    "
   ]
  },
  {
   "cell_type": "code",
   "execution_count": null,
   "id": "01238eda",
   "metadata": {},
   "outputs": [],
   "source": [
    "print(chr(51))"
   ]
  },
  {
   "cell_type": "markdown",
   "id": "050801fe",
   "metadata": {},
   "source": [
    "A weird sum\n",
    "\n",
    "Description<br>\n",
    "Write a program that computes the value of n+nn+nnn+nnnn+... nn...n ntimes with a given number as the value of n.\n",
    "\n",
    "\n",
    "\n",
    "For example, if n=3 , then you have to find the value of 3+33+333\n",
    "<pre>\n",
    "if n=10, then you have to find the value of 10 + 1010 + 101010 + 10101010 + 1010101010 + 101010101010 + 10101010101010 + 1010101010101010 +101010101010101010+ 10101010101010101010\n",
    "\n",
    "Note: n will always be a positive number"
   ]
  },
  {
   "cell_type": "code",
   "execution_count": 1,
   "id": "2af2e721",
   "metadata": {},
   "outputs": [
    {
     "name": "stdout",
     "output_type": "stream",
     "text": [
      "'Enter value of 'n' : 4\n",
      "4936\n"
     ]
    }
   ],
   "source": [
    "n=int(input(\"'Enter value of 'n' : \"))\n",
    "\n",
    "#start writing your code form here\n",
    "answer=0\n",
    "\n",
    "for i in range(1,n+1):\n",
    "    num=''\n",
    "    for j in range(i):\n",
    "        num=num+str(n)\n",
    "    num=int(num)\n",
    "    answer=answer+num\n",
    "\n",
    "print(answer)"
   ]
  },
  {
   "cell_type": "code",
   "execution_count": 3,
   "id": "ea1de3fc",
   "metadata": {},
   "outputs": [
    {
     "name": "stdout",
     "output_type": "stream",
     "text": [
      "'Enter value of 'n' : 4\n",
      "0\t4\n",
      "1\t44\n",
      "2\t444\n",
      "3\t4444\n"
     ]
    },
    {
     "data": {
      "text/plain": [
       "4936"
      ]
     },
     "execution_count": 3,
     "metadata": {},
     "output_type": "execute_result"
    }
   ],
   "source": [
    "n=input(\"'Enter value of 'n' : \")\n",
    "sumval = 0\n",
    "for num in range(int(n)):\n",
    "    print(num,end='\\t')\n",
    "    print(n*(num+1))\n",
    "    sumval += int(n*(num+1))\n",
    "sumval"
   ]
  },
  {
   "cell_type": "code",
   "execution_count": null,
   "id": "f690603d",
   "metadata": {},
   "outputs": [],
   "source": []
  },
  {
   "cell_type": "code",
   "execution_count": null,
   "id": "b898581f",
   "metadata": {},
   "outputs": [],
   "source": [
    "# Amstrong number\n",
    "\n"
   ]
  },
  {
   "cell_type": "code",
   "execution_count": null,
   "id": "8877e8a9",
   "metadata": {},
   "outputs": [],
   "source": [
    "#\n",
    "\n",
    "\n"
   ]
  },
  {
   "cell_type": "code",
   "execution_count": 7,
   "id": "48c21db3",
   "metadata": {},
   "outputs": [
    {
     "data": {
      "text/plain": [
       "[4]"
      ]
     },
     "execution_count": 7,
     "metadata": {},
     "output_type": "execute_result"
    }
   ],
   "source": [
    "# num = [8, 9, 2, 2, 3, 4, 5, 2]\n",
    "num = [4, 4, 4, 4]\n",
    "ans=[]\n",
    "for nums in num:\n",
    "    if nums in ans:\n",
    "        pass\n",
    "    else:\n",
    "        ans.append(nums)\n",
    "\n",
    "ans"
   ]
  },
  {
   "cell_type": "code",
   "execution_count": 8,
   "id": "178ddc97",
   "metadata": {},
   "outputs": [
    {
     "name": "stdout",
     "output_type": "stream",
     "text": [
      "[4, 4, 4, 4]\n",
      "[4]\n"
     ]
    }
   ],
   "source": [
    "#take input here\n",
    "import ast\n",
    "\n",
    "\"\"\"\n",
    "The string or node provided may only consist of the following Python literal structures: \n",
    "strings, bytes, numbers, tuples, lists, dicts, sets, booleans, and None.\n",
    "\"\"\"\n",
    "mylist = ast.literal_eval(input()) \n",
    "\n",
    "#remove duplicates from the list\n",
    "ans=[]\n",
    "for nums in mylist:\n",
    "    if nums in ans:\n",
    "        pass\n",
    "    else:\n",
    "        ans.append(nums)\n",
    "\n",
    "\n",
    "#print the list without duplicates\n",
    "print(ans)"
   ]
  },
  {
   "cell_type": "markdown",
   "id": "510681a6",
   "metadata": {},
   "source": [
    "<pre>\n",
    "Dictionary And List\n",
    "\n",
    "Description\n",
    "You will be converting a dictionary, of string(keys) and list of string (values),  to a list of strings. Please check the sample input/output for clarification.\n",
    "\n",
    "\n",
    "Input:\n",
    "A dictionary with keys as strings and values as a list of strings.\n",
    "\n",
    "Output:\n",
    "A list of strings\n",
    "\n",
    "\n",
    "Sample input:\n",
    "{'Mobile': ['Redmi', 'Samsung', 'Realme'], \n",
    "'Laptop': ['Dell', 'HP'],\n",
    "'TV': ['Videocon', 'Sony'] }\n",
    "\n",
    "Sample output:\n",
    "[‘Mobile_Redmi’, ‘Mobile_Samsung’, ‘Mobile_Realme’, ‘Laptop_Dell’, ‘Laptop_HP’, ‘TV_Videocon’, ‘TV_Sony’]\n",
    "\n",
    "\n",
    "Sample input:\n",
    "{ 'Pen': ['Gel', 'Ink', 'ball'],\n",
    "'Mobile': ['Android', 'apple'] }\n",
    "\n",
    "Sample output:\n",
    "['Pen_Gel', 'Pen_Ink', 'Pen_ball', 'Mobile_Android', 'Mobile_apple']"
   ]
  },
  {
   "cell_type": "code",
   "execution_count": 27,
   "id": "5c210e07",
   "metadata": {},
   "outputs": [
    {
     "name": "stdout",
     "output_type": "stream",
     "text": [
      "{'Mobile': ['Redmi', 'Samsung', 'Realme'],  'Laptop': ['Dell', 'HP'], 'TV': ['Videocon', 'Sony'] }\n",
      "\n",
      "Mobile \t ['Redmi', 'Samsung', 'Realme']\tMobile_Redmi\tMobile_Samsung\tMobile_Realme\tLaptop \t ['Dell', 'HP']\tLaptop_Dell\tLaptop_HP\tTV \t ['Videocon', 'Sony']\tTV_Videocon\tTV_Sony\t\n",
      "\n",
      "['Mobile_Redmi', 'Mobile_Samsung', 'Mobile_Realme', 'Laptop_Dell', 'Laptop_HP', 'TV_Videocon', 'TV_Sony']\n"
     ]
    }
   ],
   "source": [
    "import ast\n",
    "input_str = input()\n",
    "#input dictionary has been received in input_dict\n",
    "input_dict = ast.literal_eval(input_str)\n",
    "\n",
    "# for key in input_dict.keys():\n",
    "\n",
    "# for key,val in enumerate(input_dict):\n",
    "#     print(key, '\\t', val)\n",
    "print()\n",
    "output_list=[]\n",
    "for key in input_dict:\n",
    "    print(key, '\\t', input_dict[key],end='\\t')\n",
    "    for val in input_dict[key]:\n",
    "        print(key+'_'+val,end='\\t')\n",
    "        output_list.append(key+'_'+val) \n",
    "print(); print()\n",
    "print(output_list)"
   ]
  },
  {
   "cell_type": "markdown",
   "id": "92cf5cac",
   "metadata": {},
   "source": [
    "<pre>\n",
    "upGrad String\n",
    "\n",
    "Description\n",
    "For the purpose of this question, we will define something called an upGrad string. Note that this definition is not valid outside this question. A string upGrad string if the frequency of its characters is something like 1, 2, 3, 4, .... That is a character appears only once, another appears twice, another appears thrice and so on. For example string '$yrr$ssrsr' is a beautiful string since the frequency of y:1, $:2, s:3, r:4, however string '$yrr$ssrsr%' will not be beautiful since it has two characters (y and %) with frequency 1. The frequency of characters should be of form 1, 2, 3, 4, 5... only.\n",
    "Given a string, can you determine if the string is upGrad string or no?\n",
    "\n",
    "\n",
    "Input:\n",
    "A string\n",
    "\n",
    "Output:\n",
    "Boolean depending whether the string is upGrad string or not\n",
    "\n",
    "\n",
    "Sample input:\n",
    "$yrr$ssrsr\n",
    "\n",
    "Sample output:\n",
    "True\n",
    "\n",
    "\n",
    "Sample input:\n",
    "$yrr$ssrsr%\n",
    "\n",
    "Sample output:\n",
    "False\n",
    "\n",
    "Sample input:\n",
    "ab#ab#aba\n",
    "\n",
    "Sample output:\n",
    "False\n",
    "\n",
    "Sample input:\n",
    "ab#ab#ab6a\n",
    "\n",
    "Sample output:\n",
    "True"
   ]
  },
  {
   "cell_type": "code",
   "execution_count": 29,
   "id": "73bfd1bb",
   "metadata": {},
   "outputs": [
    {
     "name": "stdout",
     "output_type": "stream",
     "text": [
      "6 \t 8\n"
     ]
    }
   ],
   "source": [
    "x=2\n",
    "y=3\n",
    "print(x*y,'\\t',x**y)"
   ]
  },
  {
   "cell_type": "markdown",
   "id": "cf2afade",
   "metadata": {},
   "source": [
    "Armstrong number\n",
    "<pre>\n",
    "Description\n",
    "Any number, say n is called an Armstrong number if it is equal to the sum of its digits, where each is raised to the power of number of digits in n.\n",
    "\n",
    "For example:\n",
    "153=1^3+5^3+3^3\n",
    "\n",
    "Write Python code to determine whether an entered three digit number is an Armstrong number or not. \n",
    "Assume that the number entered will strictly be a three digit number.\n",
    "Print \"True\" if it is an Armstrong number and print \"False\" if it is not.\n",
    "\n",
    "Sample Input:\n",
    "153\n",
    "\n",
    "Sample Output:\n",
    "True"
   ]
  },
  {
   "cell_type": "code",
   "execution_count": 31,
   "id": "bde70904",
   "metadata": {},
   "outputs": [
    {
     "name": "stdout",
     "output_type": "stream",
     "text": [
      "153\n",
      "True\n"
     ]
    }
   ],
   "source": [
    "n=int(input())\n",
    "\n",
    "#we can use list comprehension and map function to get the digits of the number\n",
    "digits=list(map(int,str(n)))\n",
    "#str(n) converts the number to string, an iterable, and we then simple convert each char of the string \n",
    "#which in this case is a digit to int\n",
    "#and get a list of all the digits of n\n",
    "\n",
    "#we then use map again to find the sum of cubes of all digits stored in int\n",
    "#if this is same as n, then armstrong number else not\n",
    "num=sum(list(map(lambda x:x**3,digits)))\n",
    "print(num==n)"
   ]
  },
  {
   "cell_type": "code",
   "execution_count": 32,
   "id": "8b5d5f65",
   "metadata": {},
   "outputs": [
    {
     "name": "stdout",
     "output_type": "stream",
     "text": [
      "153\n",
      "True\n"
     ]
    }
   ],
   "source": [
    "#without getting into lists and list comprehension, we can also use a approach similar to \n",
    "#that taken in reverse the digits\n",
    "\n",
    "#input number is in n\n",
    "\n",
    "n=int(input())\n",
    "\n",
    "s=0 #we will store sum in this\n",
    "num=n #make a copy of n\n",
    "while n!=0:\n",
    "    s=s+ ((n%10)**3)\n",
    "    n=n//10\n",
    "\n",
    "print(s==num)"
   ]
  },
  {
   "cell_type": "markdown",
   "id": "592c3d86",
   "metadata": {},
   "source": [
    "<pre>\n",
    "Fibonacci Series\n",
    "\n",
    "Description\n",
    "Compute and display Fibonacci series upto n terms where n is a positive integer entered by the user.You can go here to read about Fibonacci series.\n",
    "\n",
    "Sample Input:\n",
    "5\n",
    "Sample Output:\n",
    "0\n",
    "1\n",
    "1\n",
    "2\n",
    "3"
   ]
  },
  {
   "cell_type": "code",
   "execution_count": 35,
   "id": "ae503ad8",
   "metadata": {},
   "outputs": [
    {
     "name": "stdout",
     "output_type": "stream",
     "text": [
      "1\n",
      "0\n"
     ]
    }
   ],
   "source": [
    "n=int(input())\n",
    "secondLast=0\n",
    "last=1\n",
    "if n>0:\n",
    "    print(secondLast)\n",
    "if n>1:\n",
    "    print(last)\n",
    "for i in range(3,n+1):\n",
    "    nextNumber=last+secondLast\n",
    "    print(nextNumber)\n",
    "    secondLast=last\n",
    "    last=nextNumber "
   ]
  },
  {
   "attachments": {
    "image-2.png": {
     "image/png": "[encoded data removed]"
    },
    "image.png": {
     "image/png": "[encoded data removed]"
    }
   },
   "cell_type": "markdown",
   "id": "37b11a93",
   "metadata": {},
   "source": [
    "Pascal's triangle \n",
    "\n",
    "Description\n",
    "A pascal's triangle is a very interesting mathematical concept.\n",
    "Each number here is a sum of the two numbers directly above it.\n",
    "Following is an 8 level Pascal's triangle:\n",
    "\n",
    "![image.png](attachment:image.png)\n",
    "\n",
    "You can read about Pascal's triangle here ( https://www.mathsisfun.com/pascals-triangle.html)\n",
    "Your task is to print an nth level of Pascal's triangle.\n",
    "The input will contain an integer n.\n",
    "The output will contain 1 line of the list of numbers representing the nth row of Pascal's triangle\n",
    "\n",
    "![image-2.png](attachment:image-2.png)\n",
    "\n",
    "Sample Input:<br>\n",
    "6\n",
    "\n",
    "Sample Output:<br>\n",
    "[1, 5, 10, 10, 5, 1]"
   ]
  },
  {
   "cell_type": "code",
   "execution_count": 39,
   "id": "e17d5589",
   "metadata": {},
   "outputs": [
    {
     "name": "stdout",
     "output_type": "stream",
     "text": [
      "6\n",
      "[1, 5, 10, 10, 5, 1]\n"
     ]
    }
   ],
   "source": [
    "n=int(input())\n",
    "\n",
    "# we will make a list with n lists in it\n",
    "# each nth list will have n numbers\n",
    "#we put all 1 in all sub lists\n",
    "#suppose n = 4\n",
    "Pascals=[[1 for i in range(j)] for j in range(1, n+1)]\n",
    "#Pascals = [[1], [1, 1], [1, 1, 1], [1, 1, 1, 1], [1, 1, 1, 1, 1], [1, 1, 1, 1, 1, 1]]\n",
    "#we dont need to change first two sublists\n",
    "for i in range(2, n):\n",
    "    for j in range(1,i):\n",
    "        Pascals[i][j]=Pascals[i-1][j-1]+Pascals[i-1][j]\n",
    "        #we add from previous sublist as shown in the link\n",
    "\n",
    "print(Pascals[-1]) #print last element of the list"
   ]
  },
  {
   "cell_type": "code",
   "execution_count": null,
   "id": "9fbad377",
   "metadata": {},
   "outputs": [],
   "source": []
  }
 ],
 "metadata": {
  "kernelspec": {
   "display_name": "Python 3",
   "language": "python",
   "name": "python3"
  },
  "language_info": {
   "codemirror_mode": {
    "name": "ipython",
    "version": 3
   },
   "file_extension": ".py",
   "mimetype": "text/x-python",
   "name": "python",
   "nbconvert_exporter": "python",
   "pygments_lexer": "ipython3",
   "version": "3.8.8"
  }
 },
 "nbformat": 4,
 "nbformat_minor": 5
}
