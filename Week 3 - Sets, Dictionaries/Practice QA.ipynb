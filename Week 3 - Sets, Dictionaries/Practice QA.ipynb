{
 "cells": [
  {
   "cell_type": "markdown",
   "id": "546bc8e6",
   "metadata": {},
   "source": [
    "Sets:\n",
    "\n",
    "\n",
    "Unlike a list or a tuple, a set does not care about order. Sets are particularly useful for two things, removing duplicates and checking membership. Because the lookup mechanism is based on the optimized hash function found in dictionaries, a lookup operation takes very little time, even on large sets."
   ]
  },
  {
   "cell_type": "markdown",
   "id": "1fa1cc9e",
   "metadata": {},
   "source": [
    "https://www.ics.uci.edu/~pattis/ICS-33/lectures/complexitypython.txt"
   ]
  },
  {
   "cell_type": "code",
   "execution_count": 1,
   "id": "64168949",
   "metadata": {},
   "outputs": [
    {
     "name": "stdout",
     "output_type": "stream",
     "text": [
      "<enumerate object at 0x0000012B5D1DDF40>\n"
     ]
    }
   ],
   "source": [
    "listelm = ['sworna','vidhya','mahadevan']\n",
    "enm = enumerate(listelm)\n",
    "print(enm)"
   ]
  },
  {
   "cell_type": "code",
   "execution_count": 12,
   "id": "d139f9b0",
   "metadata": {},
   "outputs": [
    {
     "data": {
      "text/plain": [
       "{'1': 'sworna'}"
      ]
     },
     "execution_count": 12,
     "metadata": {},
     "output_type": "execute_result"
    }
   ],
   "source": [
    "dictsamp = {'1':'sworna'}\n",
    "dictsamp"
   ]
  },
  {
   "cell_type": "markdown",
   "id": "efddf9ed",
   "metadata": {},
   "source": [
    "Definition and Usage\n",
    "The enumerate() function takes a collection (e.g. a tuple) and returns it as an enumerate object.\n",
    "\n",
    "The enumerate() function adds a counter as the key of the enumerate object.\n",
    "\n",
    "Syntax\n",
    "enumerate(iterable, start)\n",
    "<pre>\n",
    "<b>Parameter  Values</b>\n",
    "Parameter\tDescription\n",
    "iterable\tAn iterable object\n",
    "start\t    A Number. Defining the start number of the enumerate object. Default 0"
   ]
  },
  {
   "cell_type": "code",
   "execution_count": 18,
   "id": "77da92ce",
   "metadata": {},
   "outputs": [
    {
     "name": "stdout",
     "output_type": "stream",
     "text": [
      "<enumerate object at 0x0000012B5D21EDC0>\n",
      "[(0, 'sworna'), (1, 'vidhya'), (2, 'mahadevan')]\n"
     ]
    }
   ],
   "source": [
    "listelm = ['sworna','vidhya','mahadevan']\n",
    "enm = enumerate(listelm)\n",
    "print(enm)\n",
    "print(list(enm))"
   ]
  },
  {
   "cell_type": "code",
   "execution_count": 24,
   "id": "fa346a87",
   "metadata": {},
   "outputs": [
    {
     "name": "stdout",
     "output_type": "stream",
     "text": [
      "0 \t sworna \t <class 'str'>\n",
      "1 \t vidhya \t <class 'str'>\n",
      "2 \t mahadevan \t <class 'str'>\n"
     ]
    }
   ],
   "source": [
    "for ind,val in enumerate(listelm):\n",
    "    print(ind,'\\t',val,'\\t',type(val))"
   ]
  },
  {
   "cell_type": "markdown",
   "id": "3edb2d74",
   "metadata": {},
   "source": [
    "start (optional) - enumerate() starts counting from this number. If start is omitted, 0 is taken as start."
   ]
  },
  {
   "cell_type": "code",
   "execution_count": 19,
   "id": "329e4bdb",
   "metadata": {},
   "outputs": [
    {
     "name": "stdout",
     "output_type": "stream",
     "text": [
      "<enumerate object at 0x0000012B5D21B580>\n",
      "[(1, 'sworna'), (2, 'vidhya'), (3, 'mahadevan')]\n"
     ]
    }
   ],
   "source": [
    "listelm_start = ['sworna','vidhya','mahadevan']\n",
    "enm_start = enumerate(listelm_start, 1)\n",
    "print(enm_start)\n",
    "print(list(enm_start))"
   ]
  },
  {
   "cell_type": "code",
   "execution_count": 22,
   "id": "048fc179",
   "metadata": {},
   "outputs": [
    {
     "name": "stdout",
     "output_type": "stream",
     "text": [
      "<enumerate object at 0x0000012B5D21CAC0>\n",
      "[(12, 'sworna'), (13, 'vidhya'), (14, 'mahadevan'), (15, 'python'), (16, 'class')]\n"
     ]
    }
   ],
   "source": [
    "listelm_start1 = ['sworna','vidhya','mahadevan','python','class']\n",
    "enm_start_str = enumerate(listelm_start1, 12)\n",
    "print(enm_start_str)\n",
    "print(list(enm_start_str))"
   ]
  },
  {
   "cell_type": "markdown",
   "id": "1f4f106b",
   "metadata": {},
   "source": [
    "Membership testing means checking if a collection of items (a list, a set, a dictionary, etc.) contains a specific item. For example, checking if a list of even numbers contains number 42. It’s a quite common operation, so let’s see how to do it properly.\n",
    "\n",
    "How can we check if a list contains a specific item? "
   ]
  },
  {
   "cell_type": "markdown",
   "id": "cbe40d5c",
   "metadata": {},
   "source": [
    "Using in is a great idea, but it’s still slow because lookup time in a list has O(n) time complexity. The bigger the list, the longer it takes to check all the elements."
   ]
  },
  {
   "cell_type": "markdown",
   "id": "da59d372",
   "metadata": {},
   "source": [
    "<pre>\n",
    "Using a “for loop” to test membership is never a good idea.\n",
    "Python has a membership testing operator in that you should use instead.\n",
    "Membership testing in a set is much faster than membership testing in a list. But converting a list to a set also costs you some time!"
   ]
  },
  {
   "cell_type": "code",
   "execution_count": 10,
   "id": "93d8388b",
   "metadata": {},
   "outputs": [
    {
     "name": "stdout",
     "output_type": "stream",
     "text": [
      "(0, 'bread')\n",
      "(1, 'milk')\n",
      "(2, 'butter')\n",
      "\n",
      "\n",
      "0 bread\n",
      "1 milk\n",
      "2 butter\n",
      "\n",
      "\n",
      "100 bread\n",
      "101 milk\n",
      "102 butter\n"
     ]
    }
   ],
   "source": [
    "grocery = ['bread', 'milk', 'butter']\n",
    "\n",
    "for item in enumerate(grocery):\n",
    "  print(item)\n",
    "\n",
    "print('\\n')\n",
    "\n",
    "for count, item in enumerate(grocery):\n",
    "  print(count, item)\n",
    "\n",
    "print('\\n')\n",
    "# changing default start value\n",
    "for count, item in enumerate(grocery, 100):\n",
    "  print(count, item)"
   ]
  },
  {
   "cell_type": "code",
   "execution_count": 11,
   "id": "58f3cca7",
   "metadata": {},
   "outputs": [
    {
     "name": "stdout",
     "output_type": "stream",
     "text": [
      "Initially\n",
      "The datatype of string : <class 'str'>\n",
      "Contents of string : Hello World!\n",
      "\n",
      "After the conversion\n",
      "The datatype of string : <class 'set'>\n",
      "Contents of string :  {'l', 'H', '!', 'e', 'd', 'r', ' ', 'W', 'o'}\n"
     ]
    }
   ],
   "source": [
    "# create a string str\n",
    "string = \"Hello World!\"\n",
    "print(\"Initially\")\n",
    "print(\"The datatype of string : \" + str(type(string)))\n",
    "print(\"Contents of string : \" + string)\n",
    "  \n",
    "# convert String to Set\n",
    "string = set(string)\n",
    "print(\"\\nAfter the conversion\")\n",
    "print(\"The datatype of string : \" + str(type(string)))\n",
    "print(\"Contents of string : \", string)"
   ]
  },
  {
   "cell_type": "code",
   "execution_count": 26,
   "id": "cc4e81ef",
   "metadata": {},
   "outputs": [
    {
     "name": "stdout",
     "output_type": "stream",
     "text": [
      "0 1 2 3 4 5 6 7 8 9 10 11 12 13 14 15 16 17 18 19 20 21 22 23 24 25 26 27 28 29 30 31 32 33 34 35 36 37 38 39 40 41 42 43 44 45 46 47 48 49 50 51 52 53 54 55 56 57 58 59 60 61 62 63 64 65 66 67 68 69 70 71 72 73 74 75 76 77 78 79 80 81 82 83 84 85 86 87 88 89 90 91 92 93 94 95 96 97 98 99 CPU times: total: 15.6 ms\n",
      "Wall time: 5 ms\n"
     ]
    }
   ],
   "source": [
    "%%time\n",
    "\n",
    "for i in range(100):\n",
    "    print(i,end=' ')"
   ]
  },
  {
   "cell_type": "code",
   "execution_count": 27,
   "id": "82f4273a",
   "metadata": {},
   "outputs": [
    {
     "name": "stdout",
     "output_type": "stream",
     "text": [
      "Initially\n",
      "The datatype of string : <class 'str'>\n",
      "Contents of string : Hello World!\n",
      "\n",
      "After the conversion\n",
      "The datatype of string : <class 'set'>\n",
      "Contents of string :  {'l', 'H', '!', 'e', 'd', 'r', ' ', 'W', 'o'}\n",
      "CPU times: total: 0 ns\n",
      "Wall time: 0 ns\n"
     ]
    }
   ],
   "source": [
    "%%time\n",
    "\n",
    "# create a string str\n",
    "string = \"Hello World!\"\n",
    "print(\"Initially\")\n",
    "print(\"The datatype of string : \" + str(type(string)))\n",
    "print(\"Contents of string : \" + string)\n",
    "  \n",
    "# convert String to Set\n",
    "string = set(string)\n",
    "print(\"\\nAfter the conversion\")\n",
    "print(\"The datatype of string : \" + str(type(string)))\n",
    "print(\"Contents of string : \", string)"
   ]
  },
  {
   "cell_type": "code",
   "execution_count": 30,
   "id": "98fc8e4d",
   "metadata": {},
   "outputs": [
    {
     "name": "stdout",
     "output_type": "stream",
     "text": [
      "bread\n",
      "milk\n",
      "butter\n",
      "CPU times: total: 0 ns\n",
      "Wall time: 0 ns\n"
     ]
    }
   ],
   "source": [
    "%%time\n",
    "\n",
    "grocery = ['bread', 'milk', 'butter']\n",
    "\n",
    "\n",
    "for indx in range(len(grocery)):\n",
    "  print(grocery[indx])"
   ]
  },
  {
   "cell_type": "code",
   "execution_count": null,
   "id": "aeab237e",
   "metadata": {},
   "outputs": [],
   "source": []
  }
 ],
 "metadata": {
  "kernelspec": {
   "display_name": "Python 3 (ipykernel)",
   "language": "python",
   "name": "python3"
  },
  "language_info": {
   "codemirror_mode": {
    "name": "ipython",
    "version": 3
   },
   "file_extension": ".py",
   "mimetype": "text/x-python",
   "name": "python",
   "nbconvert_exporter": "python",
   "pygments_lexer": "ipython3",
   "version": "3.9.7"
  }
 },
 "nbformat": 4,
 "nbformat_minor": 5
}
