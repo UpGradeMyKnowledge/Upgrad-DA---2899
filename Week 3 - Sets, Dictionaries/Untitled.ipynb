{
 "cells": [
  {
   "cell_type": "markdown",
   "id": "0dc5e9d7",
   "metadata": {},
   "source": [
    "s1 = { '1', '2', '3'} to s1 = {1, 2, 3}"
   ]
  },
  {
   "cell_type": "markdown",
   "id": "a9dcbc51",
   "metadata": {},
   "source": [
    "__add__(self, value, /)\n",
    "\n",
    "Return self+value."
   ]
  },
  {
   "cell_type": "code",
   "execution_count": null,
   "id": "d28d14de",
   "metadata": {},
   "outputs": [],
   "source": []
  }
 ],
 "metadata": {
  "kernelspec": {
   "display_name": "Python 3 (ipykernel)",
   "language": "python",
   "name": "python3"
  },
  "language_info": {
   "codemirror_mode": {
    "name": "ipython",
    "version": 3
   },
   "file_extension": ".py",
   "mimetype": "text/x-python",
   "name": "python",
   "nbconvert_exporter": "python",
   "pygments_lexer": "ipython3",
   "version": "3.9.7"
  }
 },
 "nbformat": 4,
 "nbformat_minor": 5
}
